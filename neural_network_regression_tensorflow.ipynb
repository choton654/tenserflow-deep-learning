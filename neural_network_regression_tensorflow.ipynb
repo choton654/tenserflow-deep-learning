{
  "nbformat": 4,
  "nbformat_minor": 0,
  "metadata": {
    "colab": {
      "name": "neural_network_regression_tensorflow.ipynb",
      "provenance": [],
      "collapsed_sections": [],
      "authorship_tag": "ABX9TyPntEtpB8fddQeV1jXhuX6k",
      "include_colab_link": true
    },
    "kernelspec": {
      "name": "python3",
      "display_name": "Python 3"
    },
    "language_info": {
      "name": "python"
    }
  },
  "cells": [
    {
      "cell_type": "markdown",
      "metadata": {
        "id": "view-in-github",
        "colab_type": "text"
      },
      "source": [
        "<a href=\"https://colab.research.google.com/github/choton654/tenserflow-deep-learning/blob/main/neural_network_regression_tensorflow.ipynb\" target=\"_parent\"><img src=\"https://colab.research.google.com/assets/colab-badge.svg\" alt=\"Open In Colab\"/></a>"
      ]
    },
    {
      "cell_type": "code",
      "execution_count": null,
      "metadata": {
        "id": "OOyBc-xEK6Ua",
        "colab": {
          "base_uri": "https://localhost:8080/"
        },
        "outputId": "dfe9a670-4d30-46bd-ade3-2aa335450c32"
      },
      "outputs": [
        {
          "output_type": "stream",
          "name": "stdout",
          "text": [
            "2.8.2\n"
          ]
        }
      ],
      "source": [
        "import tensorflow as tf\n",
        "print(tf.__version__)"
      ]
    },
    {
      "cell_type": "code",
      "source": [
        "import numpy as np\n",
        "import matplotlib.pyplot as plt\n",
        "\n",
        "X = tf.constant(np.array([-7.0, -4.0, -1.0, 2.0, 5.0, 8.0, 11.0, 14.0]))\n",
        "Y = tf.constant(np.array([3.0, 6.0, 9.0, 12.0, 15.0, 18.0, 21.0, 24.0]))\n",
        "\n",
        "plt.scatter(X, Y)"
      ],
      "metadata": {
        "colab": {
          "base_uri": "https://localhost:8080/",
          "height": 286
        },
        "id": "OmrnN97vY_of",
        "outputId": "6195b504-6816-4eb2-cecf-8a0d150bde18"
      },
      "execution_count": null,
      "outputs": [
        {
          "output_type": "execute_result",
          "data": {
            "text/plain": [
              "<matplotlib.collections.PathCollection at 0x7f65f910b810>"
            ]
          },
          "metadata": {},
          "execution_count": 4
        },
        {
          "output_type": "display_data",
          "data": {
            "text/plain": [
              "<Figure size 432x288 with 1 Axes>"
            ],
            "image/png": "[encoded data removed]"
          },
          "metadata": {
            "needs_background": "light"
          }
        }
      ]
    },
    {
      "cell_type": "code",
      "source": [
        "house_info = tf.constant(np.array(['bathroom','bedroom','garage']))\n",
        "house_price = tf.constant(np.array([939700]))\n",
        "house_info.shape, house_price.shape"
      ],
      "metadata": {
        "colab": {
          "base_uri": "https://localhost:8080/"
        },
        "id": "8DBszyU7ZoEO",
        "outputId": "f704d893-8d52-4309-d59f-0cdfd6d4b034"
      },
      "execution_count": null,
      "outputs": [
        {
          "output_type": "execute_result",
          "data": {
            "text/plain": [
              "(TensorShape([3]), TensorShape([1]))"
            ]
          },
          "metadata": {},
          "execution_count": 5
        }
      ]
    },
    {
      "cell_type": "code",
      "source": [
        "X[0].shape, Y[0].shape"
      ],
      "metadata": {
        "colab": {
          "base_uri": "https://localhost:8080/"
        },
        "id": "Xjx5zrOdb54i",
        "outputId": "e4c9ed80-c3c9-4bb0-f489-b76d1ff96033"
      },
      "execution_count": null,
      "outputs": [
        {
          "output_type": "execute_result",
          "data": {
            "text/plain": [
              "(TensorShape([]), TensorShape([]))"
            ]
          },
          "metadata": {},
          "execution_count": 6
        }
      ]
    },
    {
      "cell_type": "code",
      "source": [
        "tf.random.set_seed(42)\n",
        "\n",
        "model = tf.keras.Sequential([\n",
        "   tf.keras.layers.Dense(1)                          \n",
        "])\n",
        "\n",
        "model.compile(\n",
        "    loss=tf.keras.losses.mae,\n",
        "    optimizer=tf.keras.optimizers.SGD(),\n",
        "    metrics=['mae']\n",
        ")\n",
        "\n",
        "model.fit(tf.expand_dims(X, axis=-1), Y, epochs=5)"
      ],
      "metadata": {
        "colab": {
          "base_uri": "https://localhost:8080/"
        },
        "id": "0XMAr_0Zcwd4",
        "outputId": "aecda6ee-9542-4a4b-ddaf-80916f49cfef"
      },
      "execution_count": null,
      "outputs": [
        {
          "output_type": "stream",
          "name": "stdout",
          "text": [
            "Epoch 1/5\n",
            "1/1 [==============================] - 1s 548ms/step - loss: 11.5048 - mae: 11.5048\n",
            "Epoch 2/5\n",
            "1/1 [==============================] - 0s 13ms/step - loss: 11.3723 - mae: 11.3723\n",
            "Epoch 3/5\n",
            "1/1 [==============================] - 0s 14ms/step - loss: 11.2398 - mae: 11.2398\n",
            "Epoch 4/5\n",
            "1/1 [==============================] - 0s 8ms/step - loss: 11.1073 - mae: 11.1073\n",
            "Epoch 5/5\n",
            "1/1 [==============================] - 0s 13ms/step - loss: 10.9748 - mae: 10.9748\n"
          ]
        },
        {
          "output_type": "execute_result",
          "data": {
            "text/plain": [
              "<keras.callbacks.History at 0x7f65f8bd4450>"
            ]
          },
          "metadata": {},
          "execution_count": 7
        }
      ]
    },
    {
      "cell_type": "code",
      "source": [
        "model.predict([17.0])"
      ],
      "metadata": {
        "colab": {
          "base_uri": "https://localhost:8080/"
        },
        "id": "E2cXF1QoidnG",
        "outputId": "f8073b1b-5130-4bc8-9b9a-4b4e8a8736cc"
      },
      "execution_count": null,
      "outputs": [
        {
          "output_type": "execute_result",
          "data": {
            "text/plain": [
              "array([[12.716021]], dtype=float32)"
            ]
          },
          "metadata": {},
          "execution_count": 8
        }
      ]
    },
    {
      "cell_type": "code",
      "source": [
        "model = tf.keras.Sequential([\n",
        "   tf.keras.layers.Dense(1)                          \n",
        "])\n",
        "\n",
        "model.compile(\n",
        "    loss=tf.keras.losses.mae,\n",
        "    optimizer=tf.keras.optimizers.SGD(),\n",
        "    metrics=['mae']\n",
        ")\n",
        "\n",
        "model.fit(tf.expand_dims(X, axis=-1), Y, epochs=100)\n",
        "model.predict([17.0])"
      ],
      "metadata": {
        "colab": {
          "base_uri": "https://localhost:8080/"
        },
        "id": "szDJ4wBRmx9m",
        "outputId": "789f3c02-bb35-492b-b7fb-8d834926e993"
      },
      "execution_count": null,
      "outputs": [
        {
          "output_type": "stream",
          "name": "stdout",
          "text": [
            "Epoch 1/100\n",
            "1/1 [==============================] - 0s 290ms/step - loss: 11.2219 - mae: 11.2219\n",
            "Epoch 2/100\n",
            "1/1 [==============================] - 0s 5ms/step - loss: 11.0894 - mae: 11.0894\n",
            "Epoch 3/100\n",
            "1/1 [==============================] - 0s 7ms/step - loss: 10.9569 - mae: 10.9569\n",
            "Epoch 4/100\n",
            "1/1 [==============================] - 0s 7ms/step - loss: 10.8244 - mae: 10.8244\n",
            "Epoch 5/100\n",
            "1/1 [==============================] - 0s 8ms/step - loss: 10.6919 - mae: 10.6919\n",
            "Epoch 6/100\n",
            "1/1 [==============================] - 0s 7ms/step - loss: 10.5594 - mae: 10.5594\n",
            "Epoch 7/100\n",
            "1/1 [==============================] - 0s 7ms/step - loss: 10.4269 - mae: 10.4269\n",
            "Epoch 8/100\n",
            "1/1 [==============================] - 0s 7ms/step - loss: 10.2944 - mae: 10.2944\n",
            "Epoch 9/100\n",
            "1/1 [==============================] - 0s 8ms/step - loss: 10.1619 - mae: 10.1619\n",
            "Epoch 10/100\n",
            "1/1 [==============================] - 0s 11ms/step - loss: 10.0294 - mae: 10.0294\n",
            "Epoch 11/100\n",
            "1/1 [==============================] - 0s 7ms/step - loss: 9.8969 - mae: 9.8969\n",
            "Epoch 12/100\n",
            "1/1 [==============================] - 0s 8ms/step - loss: 9.7644 - mae: 9.7644\n",
            "Epoch 13/100\n",
            "1/1 [==============================] - 0s 8ms/step - loss: 9.6319 - mae: 9.6319\n",
            "Epoch 14/100\n",
            "1/1 [==============================] - 0s 7ms/step - loss: 9.4994 - mae: 9.4994\n",
            "Epoch 15/100\n",
            "1/1 [==============================] - 0s 8ms/step - loss: 9.3669 - mae: 9.3669\n",
            "Epoch 16/100\n",
            "1/1 [==============================] - 0s 6ms/step - loss: 9.2344 - mae: 9.2344\n",
            "Epoch 17/100\n",
            "1/1 [==============================] - 0s 7ms/step - loss: 9.1019 - mae: 9.1019\n",
            "Epoch 18/100\n",
            "1/1 [==============================] - 0s 7ms/step - loss: 8.9694 - mae: 8.9694\n",
            "Epoch 19/100\n",
            "1/1 [==============================] - 0s 7ms/step - loss: 8.8369 - mae: 8.8369\n",
            "Epoch 20/100\n",
            "1/1 [==============================] - 0s 7ms/step - loss: 8.7044 - mae: 8.7044\n",
            "Epoch 21/100\n",
            "1/1 [==============================] - 0s 7ms/step - loss: 8.5719 - mae: 8.5719\n",
            "Epoch 22/100\n",
            "1/1 [==============================] - 0s 7ms/step - loss: 8.4394 - mae: 8.4394\n",
            "Epoch 23/100\n",
            "1/1 [==============================] - 0s 7ms/step - loss: 8.3069 - mae: 8.3069\n",
            "Epoch 24/100\n",
            "1/1 [==============================] - 0s 7ms/step - loss: 8.1744 - mae: 8.1744\n",
            "Epoch 25/100\n",
            "1/1 [==============================] - 0s 6ms/step - loss: 8.0419 - mae: 8.0419\n",
            "Epoch 26/100\n",
            "1/1 [==============================] - 0s 7ms/step - loss: 7.9094 - mae: 7.9094\n",
            "Epoch 27/100\n",
            "1/1 [==============================] - 0s 14ms/step - loss: 7.7769 - mae: 7.7769\n",
            "Epoch 28/100\n",
            "1/1 [==============================] - 0s 16ms/step - loss: 7.6444 - mae: 7.6444\n",
            "Epoch 29/100\n",
            "1/1 [==============================] - 0s 15ms/step - loss: 7.5119 - mae: 7.5119\n",
            "Epoch 30/100\n",
            "1/1 [==============================] - 0s 13ms/step - loss: 7.3794 - mae: 7.3794\n",
            "Epoch 31/100\n",
            "1/1 [==============================] - 0s 6ms/step - loss: 7.2750 - mae: 7.2750\n",
            "Epoch 32/100\n",
            "1/1 [==============================] - 0s 6ms/step - loss: 7.2694 - mae: 7.2694\n",
            "Epoch 33/100\n",
            "1/1 [==============================] - 0s 6ms/step - loss: 7.2638 - mae: 7.2638\n",
            "Epoch 34/100\n",
            "1/1 [==============================] - 0s 6ms/step - loss: 7.2581 - mae: 7.2581\n",
            "Epoch 35/100\n",
            "1/1 [==============================] - 0s 6ms/step - loss: 7.2525 - mae: 7.2525\n",
            "Epoch 36/100\n",
            "1/1 [==============================] - 0s 6ms/step - loss: 7.2469 - mae: 7.2469\n",
            "Epoch 37/100\n",
            "1/1 [==============================] - 0s 7ms/step - loss: 7.2412 - mae: 7.2412\n",
            "Epoch 38/100\n",
            "1/1 [==============================] - 0s 6ms/step - loss: 7.2356 - mae: 7.2356\n",
            "Epoch 39/100\n",
            "1/1 [==============================] - 0s 6ms/step - loss: 7.2300 - mae: 7.2300\n",
            "Epoch 40/100\n",
            "1/1 [==============================] - 0s 6ms/step - loss: 7.2244 - mae: 7.2244\n",
            "Epoch 41/100\n",
            "1/1 [==============================] - 0s 6ms/step - loss: 7.2188 - mae: 7.2188\n",
            "Epoch 42/100\n",
            "1/1 [==============================] - 0s 7ms/step - loss: 7.2131 - mae: 7.2131\n",
            "Epoch 43/100\n",
            "1/1 [==============================] - 0s 6ms/step - loss: 7.2075 - mae: 7.2075\n",
            "Epoch 44/100\n",
            "1/1 [==============================] - 0s 6ms/step - loss: 7.2019 - mae: 7.2019\n",
            "Epoch 45/100\n",
            "1/1 [==============================] - 0s 7ms/step - loss: 7.1962 - mae: 7.1962\n",
            "Epoch 46/100\n",
            "1/1 [==============================] - 0s 7ms/step - loss: 7.1906 - mae: 7.1906\n",
            "Epoch 47/100\n",
            "1/1 [==============================] - 0s 7ms/step - loss: 7.1850 - mae: 7.1850\n",
            "Epoch 48/100\n",
            "1/1 [==============================] - 0s 6ms/step - loss: 7.1794 - mae: 7.1794\n",
            "Epoch 49/100\n",
            "1/1 [==============================] - 0s 7ms/step - loss: 7.1737 - mae: 7.1737\n",
            "Epoch 50/100\n",
            "1/1 [==============================] - 0s 11ms/step - loss: 7.1681 - mae: 7.1681\n",
            "Epoch 51/100\n",
            "1/1 [==============================] - 0s 12ms/step - loss: 7.1625 - mae: 7.1625\n",
            "Epoch 52/100\n",
            "1/1 [==============================] - 0s 7ms/step - loss: 7.1569 - mae: 7.1569\n",
            "Epoch 53/100\n",
            "1/1 [==============================] - 0s 6ms/step - loss: 7.1512 - mae: 7.1512\n",
            "Epoch 54/100\n",
            "1/1 [==============================] - 0s 6ms/step - loss: 7.1456 - mae: 7.1456\n",
            "Epoch 55/100\n",
            "1/1 [==============================] - 0s 6ms/step - loss: 7.1400 - mae: 7.1400\n",
            "Epoch 56/100\n",
            "1/1 [==============================] - 0s 5ms/step - loss: 7.1344 - mae: 7.1344\n",
            "Epoch 57/100\n",
            "1/1 [==============================] - 0s 5ms/step - loss: 7.1287 - mae: 7.1287\n",
            "Epoch 58/100\n",
            "1/1 [==============================] - 0s 5ms/step - loss: 7.1231 - mae: 7.1231\n",
            "Epoch 59/100\n",
            "1/1 [==============================] - 0s 5ms/step - loss: 7.1175 - mae: 7.1175\n",
            "Epoch 60/100\n",
            "1/1 [==============================] - 0s 19ms/step - loss: 7.1119 - mae: 7.1119\n",
            "Epoch 61/100\n",
            "1/1 [==============================] - 0s 7ms/step - loss: 7.1062 - mae: 7.1062\n",
            "Epoch 62/100\n",
            "1/1 [==============================] - 0s 11ms/step - loss: 7.1006 - mae: 7.1006\n",
            "Epoch 63/100\n",
            "1/1 [==============================] - 0s 9ms/step - loss: 7.0950 - mae: 7.0950\n",
            "Epoch 64/100\n",
            "1/1 [==============================] - 0s 10ms/step - loss: 7.0894 - mae: 7.0894\n",
            "Epoch 65/100\n",
            "1/1 [==============================] - 0s 10ms/step - loss: 7.0838 - mae: 7.0838\n",
            "Epoch 66/100\n",
            "1/1 [==============================] - 0s 7ms/step - loss: 7.0781 - mae: 7.0781\n",
            "Epoch 67/100\n",
            "1/1 [==============================] - 0s 6ms/step - loss: 7.0725 - mae: 7.0725\n",
            "Epoch 68/100\n",
            "1/1 [==============================] - 0s 5ms/step - loss: 7.0669 - mae: 7.0669\n",
            "Epoch 69/100\n",
            "1/1 [==============================] - 0s 5ms/step - loss: 7.0613 - mae: 7.0613\n",
            "Epoch 70/100\n",
            "1/1 [==============================] - 0s 6ms/step - loss: 7.0556 - mae: 7.0556\n",
            "Epoch 71/100\n",
            "1/1 [==============================] - 0s 5ms/step - loss: 7.0500 - mae: 7.0500\n",
            "Epoch 72/100\n",
            "1/1 [==============================] - 0s 6ms/step - loss: 7.0444 - mae: 7.0444\n",
            "Epoch 73/100\n",
            "1/1 [==============================] - 0s 5ms/step - loss: 7.0388 - mae: 7.0388\n",
            "Epoch 74/100\n",
            "1/1 [==============================] - 0s 5ms/step - loss: 7.0331 - mae: 7.0331\n",
            "Epoch 75/100\n",
            "1/1 [==============================] - 0s 5ms/step - loss: 7.0275 - mae: 7.0275\n",
            "Epoch 76/100\n",
            "1/1 [==============================] - 0s 6ms/step - loss: 7.0219 - mae: 7.0219\n",
            "Epoch 77/100\n",
            "1/1 [==============================] - 0s 6ms/step - loss: 7.0163 - mae: 7.0163\n",
            "Epoch 78/100\n",
            "1/1 [==============================] - 0s 6ms/step - loss: 7.0106 - mae: 7.0106\n",
            "Epoch 79/100\n",
            "1/1 [==============================] - 0s 5ms/step - loss: 7.0050 - mae: 7.0050\n",
            "Epoch 80/100\n",
            "1/1 [==============================] - 0s 6ms/step - loss: 6.9994 - mae: 6.9994\n",
            "Epoch 81/100\n",
            "1/1 [==============================] - 0s 5ms/step - loss: 6.9938 - mae: 6.9938\n",
            "Epoch 82/100\n",
            "1/1 [==============================] - 0s 6ms/step - loss: 6.9881 - mae: 6.9881\n",
            "Epoch 83/100\n",
            "1/1 [==============================] - 0s 9ms/step - loss: 6.9825 - mae: 6.9825\n",
            "Epoch 84/100\n",
            "1/1 [==============================] - 0s 9ms/step - loss: 6.9769 - mae: 6.9769\n",
            "Epoch 85/100\n",
            "1/1 [==============================] - 0s 6ms/step - loss: 6.9713 - mae: 6.9713\n",
            "Epoch 86/100\n",
            "1/1 [==============================] - 0s 6ms/step - loss: 6.9656 - mae: 6.9656\n",
            "Epoch 87/100\n",
            "1/1 [==============================] - 0s 6ms/step - loss: 6.9600 - mae: 6.9600\n",
            "Epoch 88/100\n",
            "1/1 [==============================] - 0s 6ms/step - loss: 6.9544 - mae: 6.9544\n",
            "Epoch 89/100\n",
            "1/1 [==============================] - 0s 5ms/step - loss: 6.9488 - mae: 6.9488\n",
            "Epoch 90/100\n",
            "1/1 [==============================] - 0s 6ms/step - loss: 6.9431 - mae: 6.9431\n",
            "Epoch 91/100\n",
            "1/1 [==============================] - 0s 9ms/step - loss: 6.9375 - mae: 6.9375\n",
            "Epoch 92/100\n",
            "1/1 [==============================] - 0s 8ms/step - loss: 6.9319 - mae: 6.9319\n",
            "Epoch 93/100\n",
            "1/1 [==============================] - 0s 7ms/step - loss: 6.9263 - mae: 6.9263\n",
            "Epoch 94/100\n",
            "1/1 [==============================] - 0s 8ms/step - loss: 6.9206 - mae: 6.9206\n",
            "Epoch 95/100\n",
            "1/1 [==============================] - 0s 7ms/step - loss: 6.9150 - mae: 6.9150\n",
            "Epoch 96/100\n",
            "1/1 [==============================] - 0s 6ms/step - loss: 6.9094 - mae: 6.9094\n",
            "Epoch 97/100\n",
            "1/1 [==============================] - 0s 6ms/step - loss: 6.9038 - mae: 6.9038\n",
            "Epoch 98/100\n",
            "1/1 [==============================] - 0s 5ms/step - loss: 6.8981 - mae: 6.8981\n",
            "Epoch 99/100\n",
            "1/1 [==============================] - 0s 5ms/step - loss: 6.8925 - mae: 6.8925\n",
            "Epoch 100/100\n",
            "1/1 [==============================] - 0s 5ms/step - loss: 6.8869 - mae: 6.8869\n"
          ]
        },
        {
          "output_type": "execute_result",
          "data": {
            "text/plain": [
              "array([[29.739855]], dtype=float32)"
            ]
          },
          "metadata": {},
          "execution_count": 9
        }
      ]
    },
    {
      "cell_type": "code",
      "source": [
        "model = tf.keras.Sequential([\n",
        "   tf.keras.layers.Dense(100, activation='relu'),                         \n",
        "  #  tf.keras.layers.Dense(100, activation='relu'),                         \n",
        "  #  tf.keras.layers.Dense(100, activation='relu'),                         \n",
        "   tf.keras.layers.Dense(1)                          \n",
        "])\n",
        "\n",
        "model.compile(\n",
        "    loss=tf.keras.losses.mae,\n",
        "      # optimizer=tf.keras.optimizers.SGD(),\n",
        "    optimizer=tf.keras.optimizers.Adam(lr=0.01), # learning_rate is an important parameter to improve a model\n",
        "    metrics=['mae']\n",
        ")\n",
        "\n",
        "model.fit(tf.expand_dims(X, axis=-1), Y, epochs=100)"
      ],
      "metadata": {
        "colab": {
          "base_uri": "https://localhost:8080/"
        },
        "id": "lFWgQuYRnVBW",
        "outputId": "47edd0f7-ebbd-43be-a272-dcce853228a8"
      },
      "execution_count": null,
      "outputs": [
        {
          "output_type": "stream",
          "name": "stdout",
          "text": [
            "Epoch 1/100\n"
          ]
        },
        {
          "output_type": "stream",
          "name": "stderr",
          "text": [
            "/usr/local/lib/python3.7/dist-packages/keras/optimizer_v2/adam.py:105: UserWarning: The `lr` argument is deprecated, use `learning_rate` instead.\n",
            "  super(Adam, self).__init__(name, **kwargs)\n"
          ]
        },
        {
          "output_type": "stream",
          "name": "stdout",
          "text": [
            "1/1 [==============================] - 1s 519ms/step - loss: 12.3193 - mae: 12.3193\n",
            "Epoch 2/100\n",
            "1/1 [==============================] - 0s 11ms/step - loss: 11.5062 - mae: 11.5062\n",
            "Epoch 3/100\n",
            "1/1 [==============================] - 0s 10ms/step - loss: 10.6739 - mae: 10.6739\n",
            "Epoch 4/100\n",
            "1/1 [==============================] - 0s 9ms/step - loss: 9.8419 - mae: 9.8419\n",
            "Epoch 5/100\n",
            "1/1 [==============================] - 0s 8ms/step - loss: 8.9962 - mae: 8.9962\n",
            "Epoch 6/100\n",
            "1/1 [==============================] - 0s 9ms/step - loss: 8.1347 - mae: 8.1347\n",
            "Epoch 7/100\n",
            "1/1 [==============================] - 0s 8ms/step - loss: 7.4053 - mae: 7.4053\n",
            "Epoch 8/100\n",
            "1/1 [==============================] - 0s 9ms/step - loss: 6.6763 - mae: 6.6763\n",
            "Epoch 9/100\n",
            "1/1 [==============================] - 0s 9ms/step - loss: 5.9141 - mae: 5.9141\n",
            "Epoch 10/100\n",
            "1/1 [==============================] - 0s 9ms/step - loss: 5.1125 - mae: 5.1125\n",
            "Epoch 11/100\n",
            "1/1 [==============================] - 0s 7ms/step - loss: 4.2653 - mae: 4.2653\n",
            "Epoch 12/100\n",
            "1/1 [==============================] - 0s 7ms/step - loss: 3.8460 - mae: 3.8460\n",
            "Epoch 13/100\n",
            "1/1 [==============================] - 0s 7ms/step - loss: 3.9257 - mae: 3.9257\n",
            "Epoch 14/100\n",
            "1/1 [==============================] - 0s 7ms/step - loss: 4.0900 - mae: 4.0900\n",
            "Epoch 15/100\n",
            "1/1 [==============================] - 0s 7ms/step - loss: 4.4780 - mae: 4.4780\n",
            "Epoch 16/100\n",
            "1/1 [==============================] - 0s 6ms/step - loss: 4.7607 - mae: 4.7607\n",
            "Epoch 17/100\n",
            "1/1 [==============================] - 0s 7ms/step - loss: 4.9264 - mae: 4.9264\n",
            "Epoch 18/100\n",
            "1/1 [==============================] - 0s 7ms/step - loss: 4.9893 - mae: 4.9893\n",
            "Epoch 19/100\n",
            "1/1 [==============================] - 0s 17ms/step - loss: 4.9672 - mae: 4.9672\n",
            "Epoch 20/100\n",
            "1/1 [==============================] - 0s 9ms/step - loss: 4.8677 - mae: 4.8677\n",
            "Epoch 21/100\n",
            "1/1 [==============================] - 0s 18ms/step - loss: 4.7046 - mae: 4.7046\n",
            "Epoch 22/100\n",
            "1/1 [==============================] - 0s 12ms/step - loss: 4.4896 - mae: 4.4896\n",
            "Epoch 23/100\n",
            "1/1 [==============================] - 0s 8ms/step - loss: 4.2326 - mae: 4.2326\n",
            "Epoch 24/100\n",
            "1/1 [==============================] - 0s 13ms/step - loss: 3.9418 - mae: 3.9418\n",
            "Epoch 25/100\n",
            "1/1 [==============================] - 0s 9ms/step - loss: 3.7886 - mae: 3.7886\n",
            "Epoch 26/100\n",
            "1/1 [==============================] - 0s 9ms/step - loss: 3.6632 - mae: 3.6632\n",
            "Epoch 27/100\n",
            "1/1 [==============================] - 0s 11ms/step - loss: 3.5392 - mae: 3.5392\n",
            "Epoch 28/100\n",
            "1/1 [==============================] - 0s 18ms/step - loss: 3.5531 - mae: 3.5531\n",
            "Epoch 29/100\n",
            "1/1 [==============================] - 0s 18ms/step - loss: 3.6208 - mae: 3.6208\n",
            "Epoch 30/100\n",
            "1/1 [==============================] - 0s 12ms/step - loss: 3.6577 - mae: 3.6577\n",
            "Epoch 31/100\n",
            "1/1 [==============================] - 0s 8ms/step - loss: 3.7506 - mae: 3.7506\n",
            "Epoch 32/100\n",
            "1/1 [==============================] - 0s 12ms/step - loss: 3.7093 - mae: 3.7093\n",
            "Epoch 33/100\n",
            "1/1 [==============================] - 0s 16ms/step - loss: 3.5338 - mae: 3.5338\n",
            "Epoch 34/100\n",
            "1/1 [==============================] - 0s 8ms/step - loss: 3.4270 - mae: 3.4270\n",
            "Epoch 35/100\n",
            "1/1 [==============================] - 0s 6ms/step - loss: 3.3004 - mae: 3.3004\n",
            "Epoch 36/100\n",
            "1/1 [==============================] - 0s 7ms/step - loss: 3.1545 - mae: 3.1545\n",
            "Epoch 37/100\n",
            "1/1 [==============================] - 0s 7ms/step - loss: 3.0648 - mae: 3.0648\n",
            "Epoch 38/100\n",
            "1/1 [==============================] - 0s 6ms/step - loss: 3.0459 - mae: 3.0459\n",
            "Epoch 39/100\n",
            "1/1 [==============================] - 0s 7ms/step - loss: 3.0209 - mae: 3.0209\n",
            "Epoch 40/100\n",
            "1/1 [==============================] - 0s 7ms/step - loss: 3.0347 - mae: 3.0347\n",
            "Epoch 41/100\n",
            "1/1 [==============================] - 0s 7ms/step - loss: 2.9867 - mae: 2.9867\n",
            "Epoch 42/100\n",
            "1/1 [==============================] - 0s 7ms/step - loss: 2.8887 - mae: 2.8887\n",
            "Epoch 43/100\n",
            "1/1 [==============================] - 0s 7ms/step - loss: 2.8175 - mae: 2.8175\n",
            "Epoch 44/100\n",
            "1/1 [==============================] - 0s 7ms/step - loss: 2.7250 - mae: 2.7250\n",
            "Epoch 45/100\n",
            "1/1 [==============================] - 0s 7ms/step - loss: 2.6172 - mae: 2.6172\n",
            "Epoch 46/100\n",
            "1/1 [==============================] - 0s 8ms/step - loss: 2.5069 - mae: 2.5069\n",
            "Epoch 47/100\n",
            "1/1 [==============================] - 0s 8ms/step - loss: 2.4002 - mae: 2.4002\n",
            "Epoch 48/100\n",
            "1/1 [==============================] - 0s 8ms/step - loss: 2.2894 - mae: 2.2894\n",
            "Epoch 49/100\n",
            "1/1 [==============================] - 0s 8ms/step - loss: 2.1712 - mae: 2.1712\n",
            "Epoch 50/100\n",
            "1/1 [==============================] - 0s 8ms/step - loss: 2.0403 - mae: 2.0403\n",
            "Epoch 51/100\n",
            "1/1 [==============================] - 0s 8ms/step - loss: 1.9989 - mae: 1.9989\n",
            "Epoch 52/100\n",
            "1/1 [==============================] - 0s 7ms/step - loss: 1.8725 - mae: 1.8725\n",
            "Epoch 53/100\n",
            "1/1 [==============================] - 0s 8ms/step - loss: 1.7026 - mae: 1.7026\n",
            "Epoch 54/100\n",
            "1/1 [==============================] - 0s 8ms/step - loss: 1.5747 - mae: 1.5747\n",
            "Epoch 55/100\n",
            "1/1 [==============================] - 0s 8ms/step - loss: 1.4753 - mae: 1.4753\n",
            "Epoch 56/100\n",
            "1/1 [==============================] - 0s 8ms/step - loss: 1.3545 - mae: 1.3545\n",
            "Epoch 57/100\n",
            "1/1 [==============================] - 0s 8ms/step - loss: 1.2392 - mae: 1.2392\n",
            "Epoch 58/100\n",
            "1/1 [==============================] - 0s 8ms/step - loss: 1.0315 - mae: 1.0315\n",
            "Epoch 59/100\n",
            "1/1 [==============================] - 0s 8ms/step - loss: 0.8339 - mae: 0.8339\n",
            "Epoch 60/100\n",
            "1/1 [==============================] - 0s 8ms/step - loss: 0.6625 - mae: 0.6625\n",
            "Epoch 61/100\n",
            "1/1 [==============================] - 0s 7ms/step - loss: 0.5088 - mae: 0.5088\n",
            "Epoch 62/100\n",
            "1/1 [==============================] - 0s 7ms/step - loss: 0.3310 - mae: 0.3310\n",
            "Epoch 63/100\n",
            "1/1 [==============================] - 0s 8ms/step - loss: 0.3306 - mae: 0.3306\n",
            "Epoch 64/100\n",
            "1/1 [==============================] - 0s 8ms/step - loss: 0.3330 - mae: 0.3330\n",
            "Epoch 65/100\n",
            "1/1 [==============================] - 0s 8ms/step - loss: 0.2128 - mae: 0.2128\n",
            "Epoch 66/100\n",
            "1/1 [==============================] - 0s 8ms/step - loss: 0.6744 - mae: 0.6744\n",
            "Epoch 67/100\n",
            "1/1 [==============================] - 0s 8ms/step - loss: 0.6279 - mae: 0.6279\n",
            "Epoch 68/100\n",
            "1/1 [==============================] - 0s 8ms/step - loss: 0.6085 - mae: 0.6085\n",
            "Epoch 69/100\n",
            "1/1 [==============================] - 0s 8ms/step - loss: 0.7257 - mae: 0.7257\n",
            "Epoch 70/100\n",
            "1/1 [==============================] - 0s 8ms/step - loss: 0.6237 - mae: 0.6237\n",
            "Epoch 71/100\n",
            "1/1 [==============================] - 0s 8ms/step - loss: 0.3928 - mae: 0.3928\n",
            "Epoch 72/100\n",
            "1/1 [==============================] - 0s 8ms/step - loss: 0.5721 - mae: 0.5721\n",
            "Epoch 73/100\n",
            "1/1 [==============================] - 0s 8ms/step - loss: 0.6972 - mae: 0.6972\n",
            "Epoch 74/100\n",
            "1/1 [==============================] - 0s 8ms/step - loss: 0.4927 - mae: 0.4927\n",
            "Epoch 75/100\n",
            "1/1 [==============================] - 0s 7ms/step - loss: 0.5584 - mae: 0.5584\n",
            "Epoch 76/100\n",
            "1/1 [==============================] - 0s 15ms/step - loss: 0.5706 - mae: 0.5706\n",
            "Epoch 77/100\n",
            "1/1 [==============================] - 0s 12ms/step - loss: 0.4548 - mae: 0.4548\n",
            "Epoch 78/100\n",
            "1/1 [==============================] - 0s 6ms/step - loss: 0.2732 - mae: 0.2732\n",
            "Epoch 79/100\n",
            "1/1 [==============================] - 0s 15ms/step - loss: 0.6350 - mae: 0.6350\n",
            "Epoch 80/100\n",
            "1/1 [==============================] - 0s 7ms/step - loss: 0.7159 - mae: 0.7159\n",
            "Epoch 81/100\n",
            "1/1 [==============================] - 0s 12ms/step - loss: 0.4848 - mae: 0.4848\n",
            "Epoch 82/100\n",
            "1/1 [==============================] - 0s 8ms/step - loss: 0.1989 - mae: 0.1989\n",
            "Epoch 83/100\n",
            "1/1 [==============================] - 0s 8ms/step - loss: 0.3396 - mae: 0.3396\n",
            "Epoch 84/100\n",
            "1/1 [==============================] - 0s 7ms/step - loss: 0.2129 - mae: 0.2129\n",
            "Epoch 85/100\n",
            "1/1 [==============================] - 0s 7ms/step - loss: 0.3691 - mae: 0.3691\n",
            "Epoch 86/100\n",
            "1/1 [==============================] - 0s 7ms/step - loss: 0.4716 - mae: 0.4716\n",
            "Epoch 87/100\n",
            "1/1 [==============================] - 0s 7ms/step - loss: 0.3323 - mae: 0.3323\n",
            "Epoch 88/100\n",
            "1/1 [==============================] - 0s 7ms/step - loss: 0.2552 - mae: 0.2552\n",
            "Epoch 89/100\n",
            "1/1 [==============================] - 0s 7ms/step - loss: 0.3310 - mae: 0.3310\n",
            "Epoch 90/100\n",
            "1/1 [==============================] - 0s 7ms/step - loss: 0.2381 - mae: 0.2381\n",
            "Epoch 91/100\n",
            "1/1 [==============================] - 0s 9ms/step - loss: 0.2594 - mae: 0.2594\n",
            "Epoch 92/100\n",
            "1/1 [==============================] - 0s 9ms/step - loss: 0.2367 - mae: 0.2367\n",
            "Epoch 93/100\n",
            "1/1 [==============================] - 0s 7ms/step - loss: 0.1750 - mae: 0.1750\n",
            "Epoch 94/100\n",
            "1/1 [==============================] - 0s 7ms/step - loss: 0.2303 - mae: 0.2303\n",
            "Epoch 95/100\n",
            "1/1 [==============================] - 0s 7ms/step - loss: 0.1337 - mae: 0.1337\n",
            "Epoch 96/100\n",
            "1/1 [==============================] - 0s 9ms/step - loss: 0.1930 - mae: 0.1930\n",
            "Epoch 97/100\n",
            "1/1 [==============================] - 0s 7ms/step - loss: 0.1098 - mae: 0.1098\n",
            "Epoch 98/100\n",
            "1/1 [==============================] - 0s 16ms/step - loss: 0.2055 - mae: 0.2055\n",
            "Epoch 99/100\n",
            "1/1 [==============================] - 0s 17ms/step - loss: 0.1987 - mae: 0.1987\n",
            "Epoch 100/100\n",
            "1/1 [==============================] - 0s 18ms/step - loss: 0.2264 - mae: 0.2264\n"
          ]
        },
        {
          "output_type": "execute_result",
          "data": {
            "text/plain": [
              "<keras.callbacks.History at 0x7f65f8135c90>"
            ]
          },
          "metadata": {},
          "execution_count": 10
        }
      ]
    },
    {
      "cell_type": "code",
      "source": [
        "model.predict([17.0])"
      ],
      "metadata": {
        "colab": {
          "base_uri": "https://localhost:8080/"
        },
        "id": "NL0i8vgHnhUN",
        "outputId": "c5c34807-8d09-403e-c6ac-e27beb1603a2"
      },
      "execution_count": null,
      "outputs": [
        {
          "output_type": "execute_result",
          "data": {
            "text/plain": [
              "array([[27.159163]], dtype=float32)"
            ]
          },
          "metadata": {},
          "execution_count": 11
        }
      ]
    },
    {
      "cell_type": "code",
      "source": [
        "A = tf.range(-100,100, 4)\n",
        "A"
      ],
      "metadata": {
        "colab": {
          "base_uri": "https://localhost:8080/"
        },
        "id": "wJ54EgxW3qyL",
        "outputId": "86c9ac15-2d71-42ce-cd49-52780547ef2f"
      },
      "execution_count": null,
      "outputs": [
        {
          "output_type": "execute_result",
          "data": {
            "text/plain": [
              "<tf.Tensor: shape=(50,), dtype=int32, numpy=\n",
              "array([-100,  -96,  -92,  -88,  -84,  -80,  -76,  -72,  -68,  -64,  -60,\n",
              "        -56,  -52,  -48,  -44,  -40,  -36,  -32,  -28,  -24,  -20,  -16,\n",
              "        -12,   -8,   -4,    0,    4,    8,   12,   16,   20,   24,   28,\n",
              "         32,   36,   40,   44,   48,   52,   56,   60,   64,   68,   72,\n",
              "         76,   80,   84,   88,   92,   96], dtype=int32)>"
            ]
          },
          "metadata": {},
          "execution_count": 12
        }
      ]
    },
    {
      "cell_type": "code",
      "source": [
        "B = tf.range(-90, 110, 4)\n",
        "B"
      ],
      "metadata": {
        "colab": {
          "base_uri": "https://localhost:8080/"
        },
        "id": "jb0Fs3K8Bw7B",
        "outputId": "c845ac83-d725-42a1-bbfa-bb263f8585ed"
      },
      "execution_count": null,
      "outputs": [
        {
          "output_type": "execute_result",
          "data": {
            "text/plain": [
              "<tf.Tensor: shape=(50,), dtype=int32, numpy=\n",
              "array([-90, -86, -82, -78, -74, -70, -66, -62, -58, -54, -50, -46, -42,\n",
              "       -38, -34, -30, -26, -22, -18, -14, -10,  -6,  -2,   2,   6,  10,\n",
              "        14,  18,  22,  26,  30,  34,  38,  42,  46,  50,  54,  58,  62,\n",
              "        66,  70,  74,  78,  82,  86,  90,  94,  98, 102, 106], dtype=int32)>"
            ]
          },
          "metadata": {},
          "execution_count": 13
        }
      ]
    },
    {
      "cell_type": "code",
      "source": [
        "plt.scatter(A, B)"
      ],
      "metadata": {
        "colab": {
          "base_uri": "https://localhost:8080/",
          "height": 282
        },
        "id": "ZXk61RLcB3GA",
        "outputId": "1e1bcb56-749c-4bc4-abbd-7d2de5a77355"
      },
      "execution_count": null,
      "outputs": [
        {
          "output_type": "execute_result",
          "data": {
            "text/plain": [
              "<matplotlib.collections.PathCollection at 0x7f65f910b3d0>"
            ]
          },
          "metadata": {},
          "execution_count": 14
        },
        {
          "output_type": "display_data",
          "data": {
            "text/plain": [
              "<Figure size 432x288 with 1 Axes>"
            ],
            "image/png": "[encoded data removed]"
          },
          "metadata": {
            "needs_background": "light"
          }
        }
      ]
    },
    {
      "cell_type": "code",
      "source": [
        "X_train = A[:40]\n",
        "X_test = A[40:]\n",
        "\n",
        "Y_train = B[:40]\n",
        "Y_test = B[40:]\n",
        "\n",
        "len(X_train), len(X_test), len(Y_train), len(Y_test)"
      ],
      "metadata": {
        "colab": {
          "base_uri": "https://localhost:8080/"
        },
        "id": "VGF9QLnKHyh3",
        "outputId": "e25147a1-0cb7-45eb-9295-1370a451b6e6"
      },
      "execution_count": null,
      "outputs": [
        {
          "output_type": "execute_result",
          "data": {
            "text/plain": [
              "(40, 10, 40, 10)"
            ]
          },
          "metadata": {},
          "execution_count": 15
        }
      ]
    },
    {
      "cell_type": "code",
      "source": [
        "plt.scatter(X_train, Y_train, c='blue', label='Training data')\n",
        "plt.scatter(X_test, Y_test, c='green', label='Test data')"
      ],
      "metadata": {
        "colab": {
          "base_uri": "https://localhost:8080/",
          "height": 282
        },
        "id": "SgjEsTEUINAF",
        "outputId": "20f49a90-f333-48a1-c346-33b427516878"
      },
      "execution_count": null,
      "outputs": [
        {
          "output_type": "execute_result",
          "data": {
            "text/plain": [
              "<matplotlib.collections.PathCollection at 0x7f65f7267650>"
            ]
          },
          "metadata": {},
          "execution_count": 16
        },
        {
          "output_type": "display_data",
          "data": {
            "text/plain": [
              "<Figure size 432x288 with 1 Axes>"
            ],
            "image/png": "[encoded data removed]"
          },
          "metadata": {
            "needs_background": "light"
          }
        }
      ]
    },
    {
      "cell_type": "code",
      "source": [
        "tf.random.set_seed(42)\n",
        "\n",
        "model = tf.keras.Sequential([\n",
        "    tf.keras.layers.Dense(10, input_shape=[1], name='input_layer'), \n",
        "    tf.keras.layers.Dense(1, input_shape=[1], name='output_layer'), \n",
        "], name='test_model')\n",
        "\n",
        "model.compile(\n",
        "    loss=tf.keras.losses.mae,\n",
        "    optimizer=tf.keras.optimizers.SGD(),\n",
        "    metrics=['mae']\n",
        ")\n",
        "\n",
        "print(model.summary())\n",
        "model.fit(X_train, Y_train, epochs=100)"
      ],
      "metadata": {
        "colab": {
          "base_uri": "https://localhost:8080/"
        },
        "id": "Vmrea4eQfYUP",
        "outputId": "0f1259c4-faa4-48f5-c4eb-8bad8865a0d9"
      },
      "execution_count": null,
      "outputs": [
        {
          "output_type": "stream",
          "name": "stdout",
          "text": [
            "Model: \"test_model\"\n",
            "_________________________________________________________________\n",
            " Layer (type)                Output Shape              Param #   \n",
            "=================================================================\n",
            " input_layer (Dense)         (None, 10)                20        \n",
            "                                                                 \n",
            " output_layer (Dense)        (None, 1)                 11        \n",
            "                                                                 \n",
            "=================================================================\n",
            "Total params: 31\n",
            "Trainable params: 31\n",
            "Non-trainable params: 0\n",
            "_________________________________________________________________\n",
            "None\n",
            "Epoch 1/100\n",
            "2/2 [==============================] - 1s 7ms/step - loss: 27.4058 - mae: 27.4058\n",
            "Epoch 2/100\n",
            "2/2 [==============================] - 0s 7ms/step - loss: 24.6339 - mae: 24.6339\n",
            "Epoch 3/100\n",
            "2/2 [==============================] - 0s 6ms/step - loss: 29.8935 - mae: 29.8935\n",
            "Epoch 4/100\n",
            "2/2 [==============================] - 0s 5ms/step - loss: 27.4055 - mae: 27.4055\n",
            "Epoch 5/100\n",
            "2/2 [==============================] - 0s 5ms/step - loss: 14.9463 - mae: 14.9463\n",
            "Epoch 6/100\n",
            "2/2 [==============================] - 0s 6ms/step - loss: 11.8819 - mae: 11.8819\n",
            "Epoch 7/100\n",
            "2/2 [==============================] - 0s 11ms/step - loss: 11.1988 - mae: 11.1988\n",
            "Epoch 8/100\n",
            "2/2 [==============================] - 0s 10ms/step - loss: 11.0910 - mae: 11.0910\n",
            "Epoch 9/100\n",
            "2/2 [==============================] - 0s 7ms/step - loss: 40.4763 - mae: 40.4763\n",
            "Epoch 10/100\n",
            "2/2 [==============================] - 0s 5ms/step - loss: 27.8688 - mae: 27.8688\n",
            "Epoch 11/100\n",
            "2/2 [==============================] - 0s 4ms/step - loss: 10.2473 - mae: 10.2473\n",
            "Epoch 12/100\n",
            "2/2 [==============================] - 0s 6ms/step - loss: 25.2803 - mae: 25.2803\n",
            "Epoch 13/100\n",
            "2/2 [==============================] - 0s 4ms/step - loss: 16.9897 - mae: 16.9897\n",
            "Epoch 14/100\n",
            "2/2 [==============================] - 0s 4ms/step - loss: 25.9217 - mae: 25.9217\n",
            "Epoch 15/100\n",
            "2/2 [==============================] - 0s 4ms/step - loss: 17.9948 - mae: 17.9948\n",
            "Epoch 16/100\n",
            "2/2 [==============================] - 0s 4ms/step - loss: 7.3510 - mae: 7.3510\n",
            "Epoch 17/100\n",
            "2/2 [==============================] - 0s 4ms/step - loss: 10.8636 - mae: 10.8636\n",
            "Epoch 18/100\n",
            "2/2 [==============================] - 0s 4ms/step - loss: 19.5304 - mae: 19.5304\n",
            "Epoch 19/100\n",
            "2/2 [==============================] - 0s 4ms/step - loss: 10.3469 - mae: 10.3469\n",
            "Epoch 20/100\n",
            "2/2 [==============================] - 0s 4ms/step - loss: 17.6985 - mae: 17.6985\n",
            "Epoch 21/100\n",
            "2/2 [==============================] - 0s 4ms/step - loss: 15.8984 - mae: 15.8984\n",
            "Epoch 22/100\n",
            "2/2 [==============================] - 0s 4ms/step - loss: 14.1991 - mae: 14.1991\n",
            "Epoch 23/100\n",
            "2/2 [==============================] - 0s 10ms/step - loss: 8.7720 - mae: 8.7720\n",
            "Epoch 24/100\n",
            "2/2 [==============================] - 0s 4ms/step - loss: 11.0570 - mae: 11.0570\n",
            "Epoch 25/100\n",
            "2/2 [==============================] - 0s 10ms/step - loss: 12.6838 - mae: 12.6838\n",
            "Epoch 26/100\n",
            "2/2 [==============================] - 0s 9ms/step - loss: 26.1877 - mae: 26.1877\n",
            "Epoch 27/100\n",
            "2/2 [==============================] - 0s 9ms/step - loss: 11.7432 - mae: 11.7432\n",
            "Epoch 28/100\n",
            "2/2 [==============================] - 0s 3ms/step - loss: 22.8730 - mae: 22.8730\n",
            "Epoch 29/100\n",
            "2/2 [==============================] - 0s 4ms/step - loss: 9.2459 - mae: 9.2459\n",
            "Epoch 30/100\n",
            "2/2 [==============================] - 0s 5ms/step - loss: 29.2641 - mae: 29.2641\n",
            "Epoch 31/100\n",
            "2/2 [==============================] - 0s 5ms/step - loss: 53.0225 - mae: 53.0225\n",
            "Epoch 32/100\n",
            "2/2 [==============================] - 0s 4ms/step - loss: 11.9951 - mae: 11.9951\n",
            "Epoch 33/100\n",
            "2/2 [==============================] - 0s 5ms/step - loss: 15.6357 - mae: 15.6357\n",
            "Epoch 34/100\n",
            "2/2 [==============================] - 0s 4ms/step - loss: 12.6925 - mae: 12.6925\n",
            "Epoch 35/100\n",
            "2/2 [==============================] - 0s 5ms/step - loss: 9.2398 - mae: 9.2398\n",
            "Epoch 36/100\n",
            "2/2 [==============================] - 0s 5ms/step - loss: 16.6497 - mae: 16.6497\n",
            "Epoch 37/100\n",
            "2/2 [==============================] - 0s 5ms/step - loss: 11.0382 - mae: 11.0382\n",
            "Epoch 38/100\n",
            "2/2 [==============================] - 0s 4ms/step - loss: 18.1634 - mae: 18.1634\n",
            "Epoch 39/100\n",
            "2/2 [==============================] - 0s 5ms/step - loss: 19.1013 - mae: 19.1013\n",
            "Epoch 40/100\n",
            "2/2 [==============================] - 0s 5ms/step - loss: 20.4324 - mae: 20.4324\n",
            "Epoch 41/100\n",
            "2/2 [==============================] - 0s 5ms/step - loss: 14.9102 - mae: 14.9102\n",
            "Epoch 42/100\n",
            "2/2 [==============================] - 0s 4ms/step - loss: 12.2809 - mae: 12.2809\n",
            "Epoch 43/100\n",
            "2/2 [==============================] - 0s 6ms/step - loss: 10.7333 - mae: 10.7333\n",
            "Epoch 44/100\n",
            "2/2 [==============================] - 0s 4ms/step - loss: 23.0260 - mae: 23.0260\n",
            "Epoch 45/100\n",
            "2/2 [==============================] - 0s 7ms/step - loss: 10.3897 - mae: 10.3897\n",
            "Epoch 46/100\n",
            "2/2 [==============================] - 0s 5ms/step - loss: 11.7904 - mae: 11.7904\n",
            "Epoch 47/100\n",
            "2/2 [==============================] - 0s 5ms/step - loss: 9.6438 - mae: 9.6438\n",
            "Epoch 48/100\n",
            "2/2 [==============================] - 0s 4ms/step - loss: 17.2335 - mae: 17.2335\n",
            "Epoch 49/100\n",
            "2/2 [==============================] - 0s 4ms/step - loss: 9.5729 - mae: 9.5729\n",
            "Epoch 50/100\n",
            "2/2 [==============================] - 0s 4ms/step - loss: 13.8185 - mae: 13.8185\n",
            "Epoch 51/100\n",
            "2/2 [==============================] - 0s 5ms/step - loss: 11.5958 - mae: 11.5958\n",
            "Epoch 52/100\n",
            "2/2 [==============================] - 0s 5ms/step - loss: 30.5538 - mae: 30.5538\n",
            "Epoch 53/100\n",
            "2/2 [==============================] - 0s 5ms/step - loss: 14.3541 - mae: 14.3541\n",
            "Epoch 54/100\n",
            "2/2 [==============================] - 0s 5ms/step - loss: 23.9713 - mae: 23.9713\n",
            "Epoch 55/100\n",
            "2/2 [==============================] - 0s 6ms/step - loss: 23.1938 - mae: 23.1938\n",
            "Epoch 56/100\n",
            "2/2 [==============================] - 0s 6ms/step - loss: 10.8837 - mae: 10.8837\n",
            "Epoch 57/100\n",
            "2/2 [==============================] - 0s 7ms/step - loss: 12.7445 - mae: 12.7445\n",
            "Epoch 58/100\n",
            "2/2 [==============================] - 0s 9ms/step - loss: 9.5995 - mae: 9.5995\n",
            "Epoch 59/100\n",
            "2/2 [==============================] - 0s 5ms/step - loss: 12.5172 - mae: 12.5172\n",
            "Epoch 60/100\n",
            "2/2 [==============================] - 0s 9ms/step - loss: 12.3200 - mae: 12.3200\n",
            "Epoch 61/100\n",
            "2/2 [==============================] - 0s 5ms/step - loss: 17.4604 - mae: 17.4604\n",
            "Epoch 62/100\n",
            "2/2 [==============================] - 0s 6ms/step - loss: 10.6052 - mae: 10.6052\n",
            "Epoch 63/100\n",
            "2/2 [==============================] - 0s 6ms/step - loss: 10.4893 - mae: 10.4893\n",
            "Epoch 64/100\n",
            "2/2 [==============================] - 0s 5ms/step - loss: 24.8450 - mae: 24.8450\n",
            "Epoch 65/100\n",
            "2/2 [==============================] - 0s 6ms/step - loss: 10.6761 - mae: 10.6761\n",
            "Epoch 66/100\n",
            "2/2 [==============================] - 0s 5ms/step - loss: 21.7809 - mae: 21.7809\n",
            "Epoch 67/100\n",
            "2/2 [==============================] - 0s 5ms/step - loss: 10.7136 - mae: 10.7136\n",
            "Epoch 68/100\n",
            "2/2 [==============================] - 0s 6ms/step - loss: 10.6397 - mae: 10.6397\n",
            "Epoch 69/100\n",
            "2/2 [==============================] - 0s 5ms/step - loss: 22.6914 - mae: 22.6914\n",
            "Epoch 70/100\n",
            "2/2 [==============================] - 0s 6ms/step - loss: 9.3316 - mae: 9.3316\n",
            "Epoch 71/100\n",
            "2/2 [==============================] - 0s 5ms/step - loss: 15.4355 - mae: 15.4355\n",
            "Epoch 72/100\n",
            "2/2 [==============================] - 0s 6ms/step - loss: 6.7437 - mae: 6.7437\n",
            "Epoch 73/100\n",
            "2/2 [==============================] - 0s 8ms/step - loss: 11.6891 - mae: 11.6891\n",
            "Epoch 74/100\n",
            "2/2 [==============================] - 0s 4ms/step - loss: 24.0400 - mae: 24.0400\n",
            "Epoch 75/100\n",
            "2/2 [==============================] - 0s 14ms/step - loss: 9.5896 - mae: 9.5896\n",
            "Epoch 76/100\n",
            "2/2 [==============================] - 0s 19ms/step - loss: 12.4371 - mae: 12.4371\n",
            "Epoch 77/100\n",
            "2/2 [==============================] - 0s 10ms/step - loss: 16.6489 - mae: 16.6489\n",
            "Epoch 78/100\n",
            "2/2 [==============================] - 0s 10ms/step - loss: 9.0614 - mae: 9.0614\n",
            "Epoch 79/100\n",
            "2/2 [==============================] - 0s 11ms/step - loss: 23.9675 - mae: 23.9675\n",
            "Epoch 80/100\n",
            "2/2 [==============================] - 0s 5ms/step - loss: 26.7463 - mae: 26.7463\n",
            "Epoch 81/100\n",
            "2/2 [==============================] - 0s 4ms/step - loss: 11.6714 - mae: 11.6714\n",
            "Epoch 82/100\n",
            "2/2 [==============================] - 0s 4ms/step - loss: 12.0228 - mae: 12.0228\n",
            "Epoch 83/100\n",
            "2/2 [==============================] - 0s 5ms/step - loss: 17.4218 - mae: 17.4218\n",
            "Epoch 84/100\n",
            "2/2 [==============================] - 0s 5ms/step - loss: 7.2629 - mae: 7.2629\n",
            "Epoch 85/100\n",
            "2/2 [==============================] - 0s 10ms/step - loss: 14.9650 - mae: 14.9650\n",
            "Epoch 86/100\n",
            "2/2 [==============================] - 0s 5ms/step - loss: 15.2862 - mae: 15.2862\n",
            "Epoch 87/100\n",
            "2/2 [==============================] - 0s 15ms/step - loss: 19.1086 - mae: 19.1086\n",
            "Epoch 88/100\n",
            "2/2 [==============================] - 0s 4ms/step - loss: 29.8229 - mae: 29.8229\n",
            "Epoch 89/100\n",
            "2/2 [==============================] - 0s 7ms/step - loss: 10.1742 - mae: 10.1742\n",
            "Epoch 90/100\n",
            "2/2 [==============================] - 0s 18ms/step - loss: 21.5240 - mae: 21.5240\n",
            "Epoch 91/100\n",
            "2/2 [==============================] - 0s 9ms/step - loss: 10.5716 - mae: 10.5716\n",
            "Epoch 92/100\n",
            "2/2 [==============================] - 0s 9ms/step - loss: 18.3977 - mae: 18.3977\n",
            "Epoch 93/100\n",
            "2/2 [==============================] - 0s 9ms/step - loss: 7.4138 - mae: 7.4138\n",
            "Epoch 94/100\n",
            "2/2 [==============================] - 0s 11ms/step - loss: 17.7380 - mae: 17.7380\n",
            "Epoch 95/100\n",
            "2/2 [==============================] - 0s 9ms/step - loss: 11.1144 - mae: 11.1144\n",
            "Epoch 96/100\n",
            "2/2 [==============================] - 0s 9ms/step - loss: 19.4346 - mae: 19.4346\n",
            "Epoch 97/100\n",
            "2/2 [==============================] - 0s 9ms/step - loss: 12.1593 - mae: 12.1593\n",
            "Epoch 98/100\n",
            "2/2 [==============================] - 0s 8ms/step - loss: 11.5653 - mae: 11.5653\n",
            "Epoch 99/100\n",
            "2/2 [==============================] - 0s 8ms/step - loss: 13.8827 - mae: 13.8827\n",
            "Epoch 100/100\n",
            "2/2 [==============================] - 0s 5ms/step - loss: 20.2277 - mae: 20.2277\n"
          ]
        },
        {
          "output_type": "execute_result",
          "data": {
            "text/plain": [
              "<keras.callbacks.History at 0x7f65f7f1a2d0>"
            ]
          },
          "metadata": {},
          "execution_count": 20
        }
      ]
    },
    {
      "cell_type": "code",
      "source": [
        "y_pred = model(X_test)\n",
        "y_pred, "
      ],
      "metadata": {
        "colab": {
          "base_uri": "https://localhost:8080/"
        },
        "id": "8cw4ePwTGrgR",
        "outputId": "94b91177-f2b4-43aa-a01a-fe7d3e8025f7"
      },
      "execution_count": null,
      "outputs": [
        {
          "output_type": "execute_result",
          "data": {
            "text/plain": [
              "<tf.Tensor: shape=(10, 1), dtype=float32, numpy=\n",
              "array([[ 70.55218 ],\n",
              "       [ 75.13991 ],\n",
              "       [ 79.72763 ],\n",
              "       [ 84.31535 ],\n",
              "       [ 88.903076],\n",
              "       [ 93.49081 ],\n",
              "       [ 98.07853 ],\n",
              "       [102.66625 ],\n",
              "       [107.253975],\n",
              "       [111.8417  ]], dtype=float32)>"
            ]
          },
          "metadata": {},
          "execution_count": 22
        }
      ]
    }
  ]
}