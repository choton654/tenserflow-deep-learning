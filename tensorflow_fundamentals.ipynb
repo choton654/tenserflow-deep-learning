{
  "nbformat": 4,
  "nbformat_minor": 0,
  "metadata": {
    "colab": {
      "name": "tensorflow_fundamentals.ipynb",
      "provenance": [],
      "collapsed_sections": [],
      "authorship_tag": "ABX9TyOoRop4KSiLobO1IEM/ST5K",
      "include_colab_link": true
    },
    "kernelspec": {
      "name": "python3",
      "display_name": "Python 3"
    },
    "language_info": {
      "name": "python"
    }
  },
  "cells": [
    {
      "cell_type": "markdown",
      "metadata": {
        "id": "view-in-github",
        "colab_type": "text"
      },
      "source": [
        "<a href=\"https://colab.research.google.com/github/choton654/tenserflow-deep-learning/blob/main/tensorflow_fundamentals.ipynb\" target=\"_parent\"><img src=\"https://colab.research.google.com/assets/colab-badge.svg\" alt=\"Open In Colab\"/></a>"
      ]
    },
    {
      "cell_type": "markdown",
      "source": [
        "Tenserflow fundamentals"
      ],
      "metadata": {
        "id": "Daef-C5pP1PU"
      }
    },
    {
      "cell_type": "code",
      "source": [
        "import tensorflow as tf\n",
        "print(tf.__version__)"
      ],
      "metadata": {
        "colab": {
          "base_uri": "https://localhost:8080/"
        },
        "id": "L9vqukQP5Kxd",
        "outputId": "916c0139-e831-4797-f801-9c98f5057d1e"
      },
      "execution_count": 2,
      "outputs": [
        {
          "output_type": "stream",
          "name": "stdout",
          "text": [
            "2.8.2\n"
          ]
        }
      ]
    },
    {
      "cell_type": "code",
      "source": [
        "scaler = tf.constant(7)\n",
        "scaler"
      ],
      "metadata": {
        "colab": {
          "base_uri": "https://localhost:8080/"
        },
        "id": "4lxDz3a05xt0",
        "outputId": "7ea8cd82-0214-45ba-8fa3-cb9895e380ba"
      },
      "execution_count": null,
      "outputs": [
        {
          "output_type": "execute_result",
          "data": {
            "text/plain": [
              "<tf.Tensor: shape=(), dtype=int32, numpy=7>"
            ]
          },
          "metadata": {},
          "execution_count": 11
        }
      ]
    },
    {
      "cell_type": "code",
      "source": [
        "vector = tf.constant([10,10])\n",
        "vector"
      ],
      "metadata": {
        "colab": {
          "base_uri": "https://localhost:8080/"
        },
        "id": "tYuZwkuW8thp",
        "outputId": "c579c96d-52af-4d49-d204-14204f01b720"
      },
      "execution_count": null,
      "outputs": [
        {
          "output_type": "execute_result",
          "data": {
            "text/plain": [
              "<tf.Tensor: shape=(2,), dtype=int32, numpy=array([10, 10], dtype=int32)>"
            ]
          },
          "metadata": {},
          "execution_count": 16
        }
      ]
    },
    {
      "cell_type": "code",
      "source": [
        "print(scaler.ndim);\n",
        "print(vector.ndim);"
      ],
      "metadata": {
        "colab": {
          "base_uri": "https://localhost:8080/"
        },
        "id": "1ab8yHiZ9T2-",
        "outputId": "60e418d1-b11d-43a4-bf3e-e071bd031854"
      },
      "execution_count": null,
      "outputs": [
        {
          "output_type": "stream",
          "name": "stdout",
          "text": [
            "0\n",
            "1\n"
          ]
        }
      ]
    },
    {
      "cell_type": "code",
      "source": [
        "matrix = tf.constant([[10,10],[4,5]])\n",
        "matrix"
      ],
      "metadata": {
        "colab": {
          "base_uri": "https://localhost:8080/"
        },
        "id": "0XmZgaUs9oGO",
        "outputId": "d68996d7-4856-4874-af19-5a927463f6c5"
      },
      "execution_count": null,
      "outputs": [
        {
          "output_type": "execute_result",
          "data": {
            "text/plain": [
              "<tf.Tensor: shape=(2, 2), dtype=int32, numpy=\n",
              "array([[10, 10],\n",
              "       [ 4,  5]], dtype=int32)>"
            ]
          },
          "metadata": {},
          "execution_count": 26
        }
      ]
    },
    {
      "cell_type": "code",
      "source": [
        "print(matrix.ndim);"
      ],
      "metadata": {
        "colab": {
          "base_uri": "https://localhost:8080/"
        },
        "id": "fQKoroI596i1",
        "outputId": "4d8f7d20-8a28-4d81-debe-f3b4f27521db"
      },
      "execution_count": null,
      "outputs": [
        {
          "output_type": "stream",
          "name": "stdout",
          "text": [
            "2\n"
          ]
        }
      ]
    },
    {
      "cell_type": "code",
      "source": [
        "another_matrix = tf.constant([[10.1,4.2],[2.3,4.3],[.2,.3]],dtype=tf.float16)\n",
        "another_matrix"
      ],
      "metadata": {
        "colab": {
          "base_uri": "https://localhost:8080/"
        },
        "id": "iLfRozXYBS1o",
        "outputId": "c180b4be-dbde-4003-fac1-cde84cdc9ad1"
      },
      "execution_count": null,
      "outputs": [
        {
          "output_type": "execute_result",
          "data": {
            "text/plain": [
              "<tf.Tensor: shape=(3, 2), dtype=float16, numpy=\n",
              "array([[10.1,  4.2],\n",
              "       [ 2.3,  4.3],\n",
              "       [ 0.2,  0.3]], dtype=float16)>"
            ]
          },
          "metadata": {},
          "execution_count": 33
        }
      ]
    },
    {
      "cell_type": "code",
      "source": [
        "print(another_matrix.ndim);"
      ],
      "metadata": {
        "colab": {
          "base_uri": "https://localhost:8080/"
        },
        "id": "YsYuipuaBl_e",
        "outputId": "32d4882f-5d28-4313-f083-87ac4b1db65a"
      },
      "execution_count": null,
      "outputs": [
        {
          "output_type": "stream",
          "name": "stdout",
          "text": [
            "2\n"
          ]
        }
      ]
    },
    {
      "cell_type": "code",
      "source": [
        "tensor = tf.constant([[[1,2,3],[4,5,6]],[[7,8,9],[10,11,12]],[[13,14,15],[16,17,18]]])\n",
        "tensor"
      ],
      "metadata": {
        "colab": {
          "base_uri": "https://localhost:8080/"
        },
        "id": "Y6TlbhTbJUHy",
        "outputId": "f446344c-9126-4538-8273-c7fc253c8bae"
      },
      "execution_count": null,
      "outputs": [
        {
          "output_type": "execute_result",
          "data": {
            "text/plain": [
              "<tf.Tensor: shape=(3, 2, 3), dtype=int32, numpy=\n",
              "array([[[ 1,  2,  3],\n",
              "        [ 4,  5,  6]],\n",
              "\n",
              "       [[ 7,  8,  9],\n",
              "        [10, 11, 12]],\n",
              "\n",
              "       [[13, 14, 15],\n",
              "        [16, 17, 18]]], dtype=int32)>"
            ]
          },
          "metadata": {},
          "execution_count": 38
        }
      ]
    },
    {
      "cell_type": "code",
      "source": [
        "print(tensor.ndim)"
      ],
      "metadata": {
        "colab": {
          "base_uri": "https://localhost:8080/"
        },
        "id": "ClZ7G7wHJy7p",
        "outputId": "fa226d4b-1fff-472c-81e9-faf386dfb17f"
      },
      "execution_count": null,
      "outputs": [
        {
          "output_type": "stream",
          "name": "stdout",
          "text": [
            "3\n"
          ]
        }
      ]
    },
    {
      "cell_type": "markdown",
      "source": [
        "create tensor with tf.variable, diffirent between tf.constant and tf.variable"
      ],
      "metadata": {
        "id": "_dQ4TBz0PjN0"
      }
    },
    {
      "cell_type": "code",
      "source": [
        "changable_tensor = tf.Variable([10,7])\n",
        "changable_tensor"
      ],
      "metadata": {
        "colab": {
          "base_uri": "https://localhost:8080/"
        },
        "id": "1eIxDO_XPVdQ",
        "outputId": "0582594a-4fcc-4e69-fb2a-8cdb3faf2ea5"
      },
      "execution_count": null,
      "outputs": [
        {
          "output_type": "execute_result",
          "data": {
            "text/plain": [
              "<tf.Variable 'Variable:0' shape=(2,) dtype=int32, numpy=array([10,  7], dtype=int32)>"
            ]
          },
          "metadata": {},
          "execution_count": 42
        }
      ]
    },
    {
      "cell_type": "code",
      "source": [
        "changable_tensor[0].assign(7)\n",
        "changable_tensor"
      ],
      "metadata": {
        "colab": {
          "base_uri": "https://localhost:8080/"
        },
        "id": "pP-G2oAzQARN",
        "outputId": "e58340a9-4772-4396-f51e-fb2efe710903"
      },
      "execution_count": null,
      "outputs": [
        {
          "output_type": "execute_result",
          "data": {
            "text/plain": [
              "<tf.Variable 'Variable:0' shape=(2,) dtype=int32, numpy=array([7, 7], dtype=int32)>"
            ]
          },
          "metadata": {},
          "execution_count": 50
        }
      ]
    },
    {
      "cell_type": "code",
      "source": [
        "unchangable_tensor = tf.constant([10,7])\n",
        "unchangable_tensor[0]"
      ],
      "metadata": {
        "colab": {
          "base_uri": "https://localhost:8080/"
        },
        "id": "XODRoIDNQkYV",
        "outputId": "1c170712-3d3c-465e-901a-daddba81cfe5"
      },
      "execution_count": null,
      "outputs": [
        {
          "output_type": "execute_result",
          "data": {
            "text/plain": [
              "<tf.Tensor: shape=(), dtype=int32, numpy=10>"
            ]
          },
          "metadata": {},
          "execution_count": 55
        }
      ]
    },
    {
      "cell_type": "markdown",
      "source": [
        "Creating random tensor"
      ],
      "metadata": {
        "id": "5OHixOLHQ8Uc"
      }
    },
    {
      "cell_type": "code",
      "source": [
        "random_1 = tf.random.Generator.from_seed(7)\n",
        "random_1 = random_1.normal(shape=(3,3,3))\n",
        "random_1\n",
        "random_2 = tf.random.Generator.from_seed(7)\n",
        "random_2 = random_2.normal(shape=(3,3,3))\n",
        "random_2\n",
        "\n",
        "random_1, random_2, random_1 == random_2"
      ],
      "metadata": {
        "colab": {
          "base_uri": "https://localhost:8080/"
        },
        "id": "VRvMrYxrRFcS",
        "outputId": "11be40c9-5834-43bd-c792-b51d282db36c"
      },
      "execution_count": 3,
      "outputs": [
        {
          "output_type": "execute_result",
          "data": {
            "text/plain": [
              "(<tf.Tensor: shape=(3, 3, 3), dtype=float32, numpy=\n",
              " array([[[-1.3240396 ,  0.28785667, -0.8757901 ],\n",
              "         [-0.08857018,  0.69211644,  0.84215707],\n",
              "         [-0.06378496,  0.92800784, -0.6039789 ]],\n",
              " \n",
              "        [[-0.1766927 ,  0.04221033,  0.29037967],\n",
              "         [-0.29604465, -0.21134205,  0.01063002],\n",
              "         [ 1.5165398 ,  0.27305737, -0.29925638]],\n",
              " \n",
              "        [[-0.3652325 ,  0.61883307, -1.0130816 ],\n",
              "         [ 0.28291714,  1.2132233 ,  0.46988967],\n",
              "         [ 0.37944323, -0.6664026 ,  0.6054596 ]]], dtype=float32)>,\n",
              " <tf.Tensor: shape=(3, 3, 3), dtype=float32, numpy=\n",
              " array([[[-1.3240396 ,  0.28785667, -0.8757901 ],\n",
              "         [-0.08857018,  0.69211644,  0.84215707],\n",
              "         [-0.06378496,  0.92800784, -0.6039789 ]],\n",
              " \n",
              "        [[-0.1766927 ,  0.04221033,  0.29037967],\n",
              "         [-0.29604465, -0.21134205,  0.01063002],\n",
              "         [ 1.5165398 ,  0.27305737, -0.29925638]],\n",
              " \n",
              "        [[-0.3652325 ,  0.61883307, -1.0130816 ],\n",
              "         [ 0.28291714,  1.2132233 ,  0.46988967],\n",
              "         [ 0.37944323, -0.6664026 ,  0.6054596 ]]], dtype=float32)>,\n",
              " <tf.Tensor: shape=(3, 3, 3), dtype=bool, numpy=\n",
              " array([[[ True,  True,  True],\n",
              "         [ True,  True,  True],\n",
              "         [ True,  True,  True]],\n",
              " \n",
              "        [[ True,  True,  True],\n",
              "         [ True,  True,  True],\n",
              "         [ True,  True,  True]],\n",
              " \n",
              "        [[ True,  True,  True],\n",
              "         [ True,  True,  True],\n",
              "         [ True,  True,  True]]])>)"
            ]
          },
          "metadata": {},
          "execution_count": 3
        }
      ]
    },
    {
      "cell_type": "code",
      "source": [
        "not_shuffled = tf.constant([[10,7],[3,5],[4,2]])\n",
        "not_shuffled\n",
        "tf.random.shuffle(not_shuffled, seed=42)"
      ],
      "metadata": {
        "colab": {
          "base_uri": "https://localhost:8080/"
        },
        "id": "s8uLQAvhaj2w",
        "outputId": "b67a4aa8-d2a6-495b-9756-1f1e8f9b5188"
      },
      "execution_count": 37,
      "outputs": [
        {
          "output_type": "execute_result",
          "data": {
            "text/plain": [
              "<tf.Tensor: shape=(3, 2), dtype=int32, numpy=\n",
              "array([[10,  7],\n",
              "       [ 3,  5],\n",
              "       [ 4,  2]], dtype=int32)>"
            ]
          },
          "metadata": {},
          "execution_count": 37
        }
      ]
    },
    {
      "cell_type": "code",
      "source": [
        "tf.random.set_seed(42)\n",
        "tf.random.shuffle(not_shuffled)"
      ],
      "metadata": {
        "colab": {
          "base_uri": "https://localhost:8080/"
        },
        "id": "Dei8Xen1cSeD",
        "outputId": "ee98ff70-c5e1-4049-8916-10043b20e48b"
      },
      "execution_count": 36,
      "outputs": [
        {
          "output_type": "execute_result",
          "data": {
            "text/plain": [
              "<tf.Tensor: shape=(3, 2), dtype=int32, numpy=\n",
              "array([[ 3,  5],\n",
              "       [ 4,  2],\n",
              "       [10,  7]], dtype=int32)>"
            ]
          },
          "metadata": {},
          "execution_count": 36
        }
      ]
    },
    {
      "cell_type": "code",
      "source": [
        "tf.ones([3,4,2])"
      ],
      "metadata": {
        "colab": {
          "base_uri": "https://localhost:8080/"
        },
        "id": "Os2Q02FCfZQG",
        "outputId": "1ffdaf7d-6ee7-45dd-b798-6a17dfcc167e"
      },
      "execution_count": 48,
      "outputs": [
        {
          "output_type": "execute_result",
          "data": {
            "text/plain": [
              "<tf.Tensor: shape=(3, 4, 2), dtype=float32, numpy=\n",
              "array([[[1., 1.],\n",
              "        [1., 1.],\n",
              "        [1., 1.],\n",
              "        [1., 1.]],\n",
              "\n",
              "       [[1., 1.],\n",
              "        [1., 1.],\n",
              "        [1., 1.],\n",
              "        [1., 1.]],\n",
              "\n",
              "       [[1., 1.],\n",
              "        [1., 1.],\n",
              "        [1., 1.],\n",
              "        [1., 1.]]], dtype=float32)>"
            ]
          },
          "metadata": {},
          "execution_count": 48
        }
      ]
    },
    {
      "cell_type": "code",
      "source": [
        "import numpy as np\n",
        "narray_a = np.arange(0,32,dtype=np.int32)\n",
        "narray_a\n",
        "tf.constant(narray_a, shape=(4,4,2))"
      ],
      "metadata": {
        "colab": {
          "base_uri": "https://localhost:8080/"
        },
        "id": "8fkmN531xmuH",
        "outputId": "8b1150a2-d3b1-4fbf-b703-679ffb0c872a"
      },
      "execution_count": 64,
      "outputs": [
        {
          "output_type": "execute_result",
          "data": {
            "text/plain": [
              "<tf.Tensor: shape=(4, 4, 2), dtype=int32, numpy=\n",
              "array([[[ 0,  1],\n",
              "        [ 2,  3],\n",
              "        [ 4,  5],\n",
              "        [ 6,  7]],\n",
              "\n",
              "       [[ 8,  9],\n",
              "        [10, 11],\n",
              "        [12, 13],\n",
              "        [14, 15]],\n",
              "\n",
              "       [[16, 17],\n",
              "        [18, 19],\n",
              "        [20, 21],\n",
              "        [22, 23]],\n",
              "\n",
              "       [[24, 25],\n",
              "        [26, 27],\n",
              "        [28, 29],\n",
              "        [30, 31]]], dtype=int32)>"
            ]
          },
          "metadata": {},
          "execution_count": 64
        }
      ]
    },
    {
      "cell_type": "code",
      "source": [
        "narray_a = np.arange(1,25,dtype=np.int32)\n",
        "narray_a\n",
        "narray_t = tf.constant(narray_a, shape=(2,3,4))\n",
        "narray_t"
      ],
      "metadata": {
        "colab": {
          "base_uri": "https://localhost:8080/"
        },
        "id": "nmhclHih0JFC",
        "outputId": "a98850ec-d7c3-4211-d63a-37d16ad726f9"
      },
      "execution_count": 65,
      "outputs": [
        {
          "output_type": "execute_result",
          "data": {
            "text/plain": [
              "<tf.Tensor: shape=(2, 3, 4), dtype=int32, numpy=\n",
              "array([[[ 1,  2,  3,  4],\n",
              "        [ 5,  6,  7,  8],\n",
              "        [ 9, 10, 11, 12]],\n",
              "\n",
              "       [[13, 14, 15, 16],\n",
              "        [17, 18, 19, 20],\n",
              "        [21, 22, 23, 24]]], dtype=int32)>"
            ]
          },
          "metadata": {},
          "execution_count": 65
        }
      ]
    },
    {
      "cell_type": "code",
      "source": [
        "tf.size(narray_t).numpy()"
      ],
      "metadata": {
        "colab": {
          "base_uri": "https://localhost:8080/"
        },
        "id": "TYtFFBDQECwg",
        "outputId": "73ce73f2-35f3-48e7-a9a5-3376bf2f00d5"
      },
      "execution_count": 67,
      "outputs": [
        {
          "output_type": "execute_result",
          "data": {
            "text/plain": [
              "24"
            ]
          },
          "metadata": {},
          "execution_count": 67
        }
      ]
    },
    {
      "cell_type": "code",
      "source": [
        "print('Datatype of every element', narray_t.dtype)\n",
        "print('Number of dimensions (rank)', narray_t.ndim)\n",
        "print('Shape of tensor', narray_t.shape)\n",
        "print('Element along the 0 axis', narray_t.shape[0])\n",
        "print('Element along the last axis', narray_t.shape[-1])\n",
        "print('Total number of element in our tensor', tf.size(narray_t))\n",
        "print('Total number of element in our tensor', tf.size(narray_t).numpy())\n"
      ],
      "metadata": {
        "colab": {
          "base_uri": "https://localhost:8080/"
        },
        "id": "o6Ow8PE6Ge0D",
        "outputId": "d31b264c-c8f6-48a0-f94d-c0a92f73d990"
      },
      "execution_count": 68,
      "outputs": [
        {
          "output_type": "stream",
          "name": "stdout",
          "text": [
            "Datatype of every element <dtype: 'int32'>\n",
            "Number of dimensions (rank) 3\n",
            "Shape of tensor (2, 3, 4)\n",
            "Element along the 0 axis 2\n",
            "Element along the last axis 4\n",
            "Total number of element in our tensor tf.Tensor(24, shape=(), dtype=int32)\n",
            "Total number of element in our tensor 24\n"
          ]
        }
      ]
    },
    {
      "cell_type": "code",
      "source": [
        "narray_t[:2,:2,:1]"
      ],
      "metadata": {
        "colab": {
          "base_uri": "https://localhost:8080/"
        },
        "id": "s2uZdsvNJGTX",
        "outputId": "8f6e18f3-520b-4b2b-8c48-99c9c1756e07"
      },
      "execution_count": 78,
      "outputs": [
        {
          "output_type": "execute_result",
          "data": {
            "text/plain": [
              "<tf.Tensor: shape=(2, 2, 1), dtype=int32, numpy=\n",
              "array([[[ 1],\n",
              "        [ 5]],\n",
              "\n",
              "       [[13],\n",
              "        [17]]], dtype=int32)>"
            ]
          },
          "metadata": {},
          "execution_count": 78
        }
      ]
    },
    {
      "cell_type": "code",
      "source": [
        "rank_2_tensor = tf.ones(shape=(2,2),dtype=np.int32)\n",
        "rank_2_tensor"
      ],
      "metadata": {
        "colab": {
          "base_uri": "https://localhost:8080/"
        },
        "id": "fGx_qSKpLFlz",
        "outputId": "b1dbe90c-712a-479d-a4f9-2df672bdcdfe"
      },
      "execution_count": 86,
      "outputs": [
        {
          "output_type": "execute_result",
          "data": {
            "text/plain": [
              "<tf.Tensor: shape=(2, 2), dtype=int32, numpy=\n",
              "array([[1, 1],\n",
              "       [1, 1]], dtype=int32)>"
            ]
          },
          "metadata": {},
          "execution_count": 86
        }
      ]
    },
    {
      "cell_type": "code",
      "source": [
        "rank_2_tensor[:,-1] # Get the last item of each of row "
      ],
      "metadata": {
        "colab": {
          "base_uri": "https://localhost:8080/"
        },
        "id": "dZwLeL9fL-o0",
        "outputId": "7035c339-4ebb-466c-d701-045d7f0b1ebd"
      },
      "execution_count": 90,
      "outputs": [
        {
          "output_type": "execute_result",
          "data": {
            "text/plain": [
              "<tf.Tensor: shape=(2,), dtype=int32, numpy=array([1, 1], dtype=int32)>"
            ]
          },
          "metadata": {},
          "execution_count": 90
        }
      ]
    },
    {
      "cell_type": "code",
      "source": [
        "rank_3_tensor = rank_2_tensor[..., tf.newaxis] # add new axis in tensor\n",
        "rank_3_tensor"
      ],
      "metadata": {
        "colab": {
          "base_uri": "https://localhost:8080/"
        },
        "id": "d5yhRnaqOCNG",
        "outputId": "78fd96a6-83f0-49bc-d3d8-c105943f96bc"
      },
      "execution_count": 92,
      "outputs": [
        {
          "output_type": "execute_result",
          "data": {
            "text/plain": [
              "<tf.Tensor: shape=(2, 2, 1), dtype=int32, numpy=\n",
              "array([[[1],\n",
              "        [1]],\n",
              "\n",
              "       [[1],\n",
              "        [1]]], dtype=int32)>"
            ]
          },
          "metadata": {},
          "execution_count": 92
        }
      ]
    },
    {
      "cell_type": "code",
      "source": [
        "rank_3_tensor = tf.expand_dims(rank_2_tensor, axis=0) # another way to add dimension putting the axis\n",
        "rank_3_tensor\n"
      ],
      "metadata": {
        "colab": {
          "base_uri": "https://localhost:8080/"
        },
        "id": "VDQ6NGujOU8d",
        "outputId": "4b33ab35-4507-4acf-ca29-ad5b827e3922"
      },
      "execution_count": 97,
      "outputs": [
        {
          "output_type": "execute_result",
          "data": {
            "text/plain": [
              "<tf.Tensor: shape=(1, 2, 2), dtype=int32, numpy=\n",
              "array([[[1, 1],\n",
              "        [1, 1]]], dtype=int32)>"
            ]
          },
          "metadata": {},
          "execution_count": 97
        }
      ]
    },
    {
      "cell_type": "code",
      "source": [
        "rank_3_tensor + 10"
      ],
      "metadata": {
        "colab": {
          "base_uri": "https://localhost:8080/"
        },
        "id": "XTDnMx-tdnad",
        "outputId": "10f6d4cd-f0dd-42e5-e5b1-898294bb2185"
      },
      "execution_count": 98,
      "outputs": [
        {
          "output_type": "execute_result",
          "data": {
            "text/plain": [
              "<tf.Tensor: shape=(1, 2, 2), dtype=int32, numpy=\n",
              "array([[[11, 11],\n",
              "        [11, 11]]], dtype=int32)>"
            ]
          },
          "metadata": {},
          "execution_count": 98
        }
      ]
    },
    {
      "cell_type": "code",
      "source": [
        "tf.multiply(rank_3_tensor, 3)"
      ],
      "metadata": {
        "colab": {
          "base_uri": "https://localhost:8080/"
        },
        "id": "XL7wppZnhQVl",
        "outputId": "54386ccb-b4a0-4943-aafc-bfa912e72db6"
      },
      "execution_count": 99,
      "outputs": [
        {
          "output_type": "execute_result",
          "data": {
            "text/plain": [
              "<tf.Tensor: shape=(1, 2, 2), dtype=int32, numpy=\n",
              "array([[[3, 3],\n",
              "        [3, 3]]], dtype=int32)>"
            ]
          },
          "metadata": {},
          "execution_count": 99
        }
      ]
    },
    {
      "cell_type": "code",
      "source": [
        "x = tf.constant([[10,7],[3,4],[8,9]])\n",
        "y = tf.constant([[1,2],[5,6],[11,12]])\n",
        "# tf.matmul(x,y) \n",
        "# inner dimension must be same in case of matmul like 3,2 and 2,2\n",
        "# x.shape\n",
        "# y.shape"
      ],
      "metadata": {
        "id": "iau1LhOInnSx"
      },
      "execution_count": 117,
      "outputs": []
    },
    {
      "cell_type": "code",
      "source": [
        "x @ y"
      ],
      "metadata": {
        "colab": {
          "base_uri": "https://localhost:8080/"
        },
        "id": "ypErcYVar0lb",
        "outputId": "96e7e7f8-d252-4b35-a103-55a46864aad7"
      },
      "execution_count": 114,
      "outputs": [
        {
          "output_type": "execute_result",
          "data": {
            "text/plain": [
              "<tf.Tensor: shape=(3, 2), dtype=int32, numpy=\n",
              "array([[45, 62],\n",
              "       [23, 30],\n",
              "       [53, 70]], dtype=int32)>"
            ]
          },
          "metadata": {},
          "execution_count": 114
        }
      ]
    },
    {
      "cell_type": "code",
      "source": [
        "tf.reshape(y, shape=(2,3))\n",
        "tf.matmul(x, tf.reshape(y, shape=(2,3)))\n",
        "tf.matmul(x, tf.transpose(y))\n"
      ],
      "metadata": {
        "colab": {
          "base_uri": "https://localhost:8080/"
        },
        "id": "ZcCFGETntZZ4",
        "outputId": "7cdda9f1-f03e-4432-d1f8-7b44f05b2e59"
      },
      "execution_count": 123,
      "outputs": [
        {
          "output_type": "execute_result",
          "data": {
            "text/plain": [
              "<tf.Tensor: shape=(3, 3), dtype=int32, numpy=\n",
              "array([[ 24,  92, 194],\n",
              "       [ 11,  39,  81],\n",
              "       [ 26,  94, 196]], dtype=int32)>"
            ]
          },
          "metadata": {},
          "execution_count": 123
        }
      ]
    }
  ]
}