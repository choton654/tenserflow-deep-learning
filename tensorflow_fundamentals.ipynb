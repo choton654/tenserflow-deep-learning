{
  "nbformat": 4,
  "nbformat_minor": 0,
  "metadata": {
    "colab": {
      "name": "tensorflow_fundamentals.ipynb",
      "provenance": [],
      "collapsed_sections": [],
      "authorship_tag": "ABX9TyOA819NJifeGndOMeYNKfOb",
      "include_colab_link": true
    },
    "kernelspec": {
      "name": "python3",
      "display_name": "Python 3"
    },
    "language_info": {
      "name": "python"
    }
  },
  "cells": [
    {
      "cell_type": "markdown",
      "metadata": {
        "id": "view-in-github",
        "colab_type": "text"
      },
      "source": [
        "<a href=\"https://colab.research.google.com/github/choton654/tenserflow-deep-learning/blob/main/tensorflow_fundamentals.ipynb\" target=\"_parent\"><img src=\"https://colab.research.google.com/assets/colab-badge.svg\" alt=\"Open In Colab\"/></a>"
      ]
    },
    {
      "cell_type": "markdown",
      "source": [
        "Tenserflow fundamentals"
      ],
      "metadata": {
        "id": "Daef-C5pP1PU"
      }
    },
    {
      "cell_type": "code",
      "source": [
        "import tensorflow as tf\n",
        "print(tf.__version__)"
      ],
      "metadata": {
        "colab": {
          "base_uri": "https://localhost:8080/"
        },
        "id": "L9vqukQP5Kxd",
        "outputId": "b9bb97a0-0080-4ea7-e48b-87fd7fc677ce"
      },
      "execution_count": 6,
      "outputs": [
        {
          "output_type": "stream",
          "name": "stdout",
          "text": [
            "2.8.2\n"
          ]
        }
      ]
    },
    {
      "cell_type": "code",
      "source": [
        "scaler = tf.constant(7)\n",
        "scaler"
      ],
      "metadata": {
        "colab": {
          "base_uri": "https://localhost:8080/"
        },
        "id": "4lxDz3a05xt0",
        "outputId": "7ea8cd82-0214-45ba-8fa3-cb9895e380ba"
      },
      "execution_count": 11,
      "outputs": [
        {
          "output_type": "execute_result",
          "data": {
            "text/plain": [
              "<tf.Tensor: shape=(), dtype=int32, numpy=7>"
            ]
          },
          "metadata": {},
          "execution_count": 11
        }
      ]
    },
    {
      "cell_type": "code",
      "source": [
        "vector = tf.constant([10,10])\n",
        "vector"
      ],
      "metadata": {
        "colab": {
          "base_uri": "https://localhost:8080/"
        },
        "id": "tYuZwkuW8thp",
        "outputId": "c579c96d-52af-4d49-d204-14204f01b720"
      },
      "execution_count": 16,
      "outputs": [
        {
          "output_type": "execute_result",
          "data": {
            "text/plain": [
              "<tf.Tensor: shape=(2,), dtype=int32, numpy=array([10, 10], dtype=int32)>"
            ]
          },
          "metadata": {},
          "execution_count": 16
        }
      ]
    },
    {
      "cell_type": "code",
      "source": [
        "print(scaler.ndim);\n",
        "print(vector.ndim);"
      ],
      "metadata": {
        "colab": {
          "base_uri": "https://localhost:8080/"
        },
        "id": "1ab8yHiZ9T2-",
        "outputId": "60e418d1-b11d-43a4-bf3e-e071bd031854"
      },
      "execution_count": 19,
      "outputs": [
        {
          "output_type": "stream",
          "name": "stdout",
          "text": [
            "0\n",
            "1\n"
          ]
        }
      ]
    },
    {
      "cell_type": "code",
      "source": [
        "matrix = tf.constant([[10,10],[4,5]])\n",
        "matrix"
      ],
      "metadata": {
        "colab": {
          "base_uri": "https://localhost:8080/"
        },
        "id": "0XmZgaUs9oGO",
        "outputId": "d68996d7-4856-4874-af19-5a927463f6c5"
      },
      "execution_count": 26,
      "outputs": [
        {
          "output_type": "execute_result",
          "data": {
            "text/plain": [
              "<tf.Tensor: shape=(2, 2), dtype=int32, numpy=\n",
              "array([[10, 10],\n",
              "       [ 4,  5]], dtype=int32)>"
            ]
          },
          "metadata": {},
          "execution_count": 26
        }
      ]
    },
    {
      "cell_type": "code",
      "source": [
        "print(matrix.ndim);"
      ],
      "metadata": {
        "colab": {
          "base_uri": "https://localhost:8080/"
        },
        "id": "fQKoroI596i1",
        "outputId": "4d8f7d20-8a28-4d81-debe-f3b4f27521db"
      },
      "execution_count": 28,
      "outputs": [
        {
          "output_type": "stream",
          "name": "stdout",
          "text": [
            "2\n"
          ]
        }
      ]
    },
    {
      "cell_type": "code",
      "source": [
        "another_matrix = tf.constant([[10.1,4.2],[2.3,4.3],[.2,.3]],dtype=tf.float16)\n",
        "another_matrix"
      ],
      "metadata": {
        "colab": {
          "base_uri": "https://localhost:8080/"
        },
        "id": "iLfRozXYBS1o",
        "outputId": "c180b4be-dbde-4003-fac1-cde84cdc9ad1"
      },
      "execution_count": 33,
      "outputs": [
        {
          "output_type": "execute_result",
          "data": {
            "text/plain": [
              "<tf.Tensor: shape=(3, 2), dtype=float16, numpy=\n",
              "array([[10.1,  4.2],\n",
              "       [ 2.3,  4.3],\n",
              "       [ 0.2,  0.3]], dtype=float16)>"
            ]
          },
          "metadata": {},
          "execution_count": 33
        }
      ]
    },
    {
      "cell_type": "code",
      "source": [
        "print(another_matrix.ndim);"
      ],
      "metadata": {
        "colab": {
          "base_uri": "https://localhost:8080/"
        },
        "id": "YsYuipuaBl_e",
        "outputId": "32d4882f-5d28-4313-f083-87ac4b1db65a"
      },
      "execution_count": 36,
      "outputs": [
        {
          "output_type": "stream",
          "name": "stdout",
          "text": [
            "2\n"
          ]
        }
      ]
    },
    {
      "cell_type": "code",
      "source": [
        "tensor = tf.constant([[[1,2,3],[4,5,6]],[[7,8,9],[10,11,12]],[[13,14,15],[16,17,18]]])\n",
        "tensor"
      ],
      "metadata": {
        "colab": {
          "base_uri": "https://localhost:8080/"
        },
        "id": "Y6TlbhTbJUHy",
        "outputId": "f446344c-9126-4538-8273-c7fc253c8bae"
      },
      "execution_count": 38,
      "outputs": [
        {
          "output_type": "execute_result",
          "data": {
            "text/plain": [
              "<tf.Tensor: shape=(3, 2, 3), dtype=int32, numpy=\n",
              "array([[[ 1,  2,  3],\n",
              "        [ 4,  5,  6]],\n",
              "\n",
              "       [[ 7,  8,  9],\n",
              "        [10, 11, 12]],\n",
              "\n",
              "       [[13, 14, 15],\n",
              "        [16, 17, 18]]], dtype=int32)>"
            ]
          },
          "metadata": {},
          "execution_count": 38
        }
      ]
    },
    {
      "cell_type": "code",
      "source": [
        "print(tensor.ndim)"
      ],
      "metadata": {
        "colab": {
          "base_uri": "https://localhost:8080/"
        },
        "id": "ClZ7G7wHJy7p",
        "outputId": "fa226d4b-1fff-472c-81e9-faf386dfb17f"
      },
      "execution_count": 40,
      "outputs": [
        {
          "output_type": "stream",
          "name": "stdout",
          "text": [
            "3\n"
          ]
        }
      ]
    },
    {
      "cell_type": "markdown",
      "source": [
        "create tensor with tf.variable, diffirent between tf.constant and tf.variable"
      ],
      "metadata": {
        "id": "_dQ4TBz0PjN0"
      }
    },
    {
      "cell_type": "code",
      "source": [
        "changable_tensor = tf.Variable([10,7])\n",
        "changable_tensor"
      ],
      "metadata": {
        "colab": {
          "base_uri": "https://localhost:8080/"
        },
        "id": "1eIxDO_XPVdQ",
        "outputId": "0582594a-4fcc-4e69-fb2a-8cdb3faf2ea5"
      },
      "execution_count": 42,
      "outputs": [
        {
          "output_type": "execute_result",
          "data": {
            "text/plain": [
              "<tf.Variable 'Variable:0' shape=(2,) dtype=int32, numpy=array([10,  7], dtype=int32)>"
            ]
          },
          "metadata": {},
          "execution_count": 42
        }
      ]
    },
    {
      "cell_type": "code",
      "source": [
        "changable_tensor[0].assign(7)\n",
        "changable_tensor"
      ],
      "metadata": {
        "colab": {
          "base_uri": "https://localhost:8080/"
        },
        "id": "pP-G2oAzQARN",
        "outputId": "e58340a9-4772-4396-f51e-fb2efe710903"
      },
      "execution_count": 50,
      "outputs": [
        {
          "output_type": "execute_result",
          "data": {
            "text/plain": [
              "<tf.Variable 'Variable:0' shape=(2,) dtype=int32, numpy=array([7, 7], dtype=int32)>"
            ]
          },
          "metadata": {},
          "execution_count": 50
        }
      ]
    },
    {
      "cell_type": "code",
      "source": [
        "unchangable_tensor = tf.constant([10,7])\n",
        "unchangable_tensor[0]"
      ],
      "metadata": {
        "colab": {
          "base_uri": "https://localhost:8080/"
        },
        "id": "XODRoIDNQkYV",
        "outputId": "1c170712-3d3c-465e-901a-daddba81cfe5"
      },
      "execution_count": 55,
      "outputs": [
        {
          "output_type": "execute_result",
          "data": {
            "text/plain": [
              "<tf.Tensor: shape=(), dtype=int32, numpy=10>"
            ]
          },
          "metadata": {},
          "execution_count": 55
        }
      ]
    },
    {
      "cell_type": "markdown",
      "source": [
        "Creating random tensor"
      ],
      "metadata": {
        "id": "5OHixOLHQ8Uc"
      }
    },
    {
      "cell_type": "code",
      "source": [
        "random_1 = tf.random.Generator.from_seed(7)\n",
        "random_1 = random_1.normal(shape=(3,3,3))\n",
        "random_1\n",
        "random_2 = tf.random.Generator.from_seed(7)\n",
        "random_2 = random_2.normal(shape=(3,3,3))\n",
        "random_2\n",
        "\n",
        "random_1, random_2, random_1 == random_2"
      ],
      "metadata": {
        "colab": {
          "base_uri": "https://localhost:8080/"
        },
        "id": "VRvMrYxrRFcS",
        "outputId": "49b574c1-020a-473a-a2ab-414fc067ed0d"
      },
      "execution_count": 63,
      "outputs": [
        {
          "output_type": "execute_result",
          "data": {
            "text/plain": [
              "(<tf.Tensor: shape=(3, 3, 3), dtype=float32, numpy=\n",
              " array([[[-1.3240396 ,  0.28785667, -0.8757901 ],\n",
              "         [-0.08857018,  0.69211644,  0.84215707],\n",
              "         [-0.06378496,  0.92800784, -0.6039789 ]],\n",
              " \n",
              "        [[-0.1766927 ,  0.04221033,  0.29037967],\n",
              "         [-0.29604465, -0.21134205,  0.01063002],\n",
              "         [ 1.5165398 ,  0.27305737, -0.29925638]],\n",
              " \n",
              "        [[-0.3652325 ,  0.61883307, -1.0130816 ],\n",
              "         [ 0.28291714,  1.2132233 ,  0.46988967],\n",
              "         [ 0.37944323, -0.6664026 ,  0.6054596 ]]], dtype=float32)>,\n",
              " <tf.Tensor: shape=(3, 3, 3), dtype=float32, numpy=\n",
              " array([[[-1.3240396 ,  0.28785667, -0.8757901 ],\n",
              "         [-0.08857018,  0.69211644,  0.84215707],\n",
              "         [-0.06378496,  0.92800784, -0.6039789 ]],\n",
              " \n",
              "        [[-0.1766927 ,  0.04221033,  0.29037967],\n",
              "         [-0.29604465, -0.21134205,  0.01063002],\n",
              "         [ 1.5165398 ,  0.27305737, -0.29925638]],\n",
              " \n",
              "        [[-0.3652325 ,  0.61883307, -1.0130816 ],\n",
              "         [ 0.28291714,  1.2132233 ,  0.46988967],\n",
              "         [ 0.37944323, -0.6664026 ,  0.6054596 ]]], dtype=float32)>,\n",
              " <tf.Tensor: shape=(3, 3, 3), dtype=bool, numpy=\n",
              " array([[[ True,  True,  True],\n",
              "         [ True,  True,  True],\n",
              "         [ True,  True,  True]],\n",
              " \n",
              "        [[ True,  True,  True],\n",
              "         [ True,  True,  True],\n",
              "         [ True,  True,  True]],\n",
              " \n",
              "        [[ True,  True,  True],\n",
              "         [ True,  True,  True],\n",
              "         [ True,  True,  True]]])>)"
            ]
          },
          "metadata": {},
          "execution_count": 63
        }
      ]
    }
  ]
}